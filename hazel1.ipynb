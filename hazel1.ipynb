{
 "cells": [
  {
   "cell_type": "code",
   "execution_count": 1,
   "id": "fleet-research",
   "metadata": {},
   "outputs": [
    {
     "name": "stdout",
     "output_type": "stream",
     "text": [
      "Collecting hazelcast-python-client\n",
      "  Downloading hazelcast_python_client-5.0.1-py3-none-any.whl (397 kB)\n",
      "\u001b[K     |████████████████████████████████| 397 kB 1.8 MB/s eta 0:00:01\n",
      "\u001b[?25hInstalling collected packages: hazelcast-python-client\n",
      "Successfully installed hazelcast-python-client-5.0.1\n"
     ]
    }
   ],
   "source": [
    "!pip install hazelcast-python-client"
   ]
  },
  {
   "cell_type": "code",
   "execution_count": 1,
   "id": "drawn-sending",
   "metadata": {},
   "outputs": [],
   "source": [
    "import hazelcast"
   ]
  },
  {
   "cell_type": "code",
   "execution_count": null,
   "id": "filled-questionnaire",
   "metadata": {},
   "outputs": [],
   "source": [
    "hz = hazelcast.HazelcastClient()\n",
    "# Create a Distributed Map in the cluster\n",
    "map = hz.get_map(\"my-distributed-map\").blocking()\n",
    "# Standard Put and Get\n",
    "map.put(\"1\", \"John\")\n",
    "map.put(\"2\", \"Mary\")\n",
    "map.put(\"3\", \"Jane\")\n",
    "# Shutdown the client\n",
    "hz.shutdown()"
   ]
  },
  {
   "cell_type": "code",
   "execution_count": null,
   "id": "secondary-period",
   "metadata": {},
   "outputs": [],
   "source": []
  }
 ],
 "metadata": {
  "kernelspec": {
   "display_name": "Python 3",
   "language": "python",
   "name": "python3"
  },
  "language_info": {
   "codemirror_mode": {
    "name": "ipython",
    "version": 3
   },
   "file_extension": ".py",
   "mimetype": "text/x-python",
   "name": "python",
   "nbconvert_exporter": "python",
   "pygments_lexer": "ipython3",
   "version": "3.8.8"
  }
 },
 "nbformat": 4,
 "nbformat_minor": 5
}
