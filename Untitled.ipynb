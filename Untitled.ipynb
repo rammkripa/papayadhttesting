{
 "cells": [
  {
   "cell_type": "code",
   "execution_count": 1,
   "id": "neutral-radius",
   "metadata": {},
   "outputs": [
    {
     "name": "stdout",
     "output_type": "stream",
     "text": [
      "Collecting kademlia\n",
      "  Downloading kademlia-2.2.2-py3-none-any.whl (20 kB)\n",
      "Collecting rpcudp>=4.0.1\n",
      "  Downloading rpcudp-4.0.2-py3-none-any.whl (6.5 kB)\n",
      "Collecting u-msgpack-python>=2.6\n",
      "  Downloading u_msgpack_python-2.7.1-py2.py3-none-any.whl (10.0 kB)\n",
      "Installing collected packages: u-msgpack-python, rpcudp, kademlia\n",
      "Successfully installed kademlia-2.2.2 rpcudp-4.0.2 u-msgpack-python-2.7.1\n"
     ]
    }
   ],
   "source": [
    "!pip install kademlia"
   ]
  },
  {
   "cell_type": "code",
   "execution_count": null,
   "id": "three-drink",
   "metadata": {},
   "outputs": [],
   "source": []
  }
 ],
 "metadata": {
  "kernelspec": {
   "display_name": "Python 3",
   "language": "python",
   "name": "python3"
  },
  "language_info": {
   "codemirror_mode": {
    "name": "ipython",
    "version": 3
   },
   "file_extension": ".py",
   "mimetype": "text/x-python",
   "name": "python",
   "nbconvert_exporter": "python",
   "pygments_lexer": "ipython3",
   "version": "3.8.8"
  }
 },
 "nbformat": 4,
 "nbformat_minor": 5
}
