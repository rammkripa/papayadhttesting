{
 "cells": [
  {
   "cell_type": "code",
   "execution_count": 2,
   "id": "permanent-gamma",
   "metadata": {},
   "outputs": [],
   "source": [
    "import btdht"
   ]
  },
  {
   "cell_type": "code",
   "execution_count": 3,
   "id": "dutch-sherman",
   "metadata": {},
   "outputs": [],
   "source": [
    "import binascii"
   ]
  },
  {
   "cell_type": "code",
   "execution_count": 4,
   "id": "temporal-drive",
   "metadata": {},
   "outputs": [],
   "source": [
    "dht = btdht.DHT(id = b'\\xc8\\x1e\\t\\xed\\t\\xa3\\xa6;\\xd6H\\xc1!\\xb0\\xff\\xa3Wm\\xbe\\n\\xf3')"
   ]
  },
  {
   "cell_type": "code",
   "execution_count": 5,
   "id": "international-darkness",
   "metadata": {},
   "outputs": [
    {
     "name": "stdout",
     "output_type": "stream",
     "text": [
      "init socket for b'c81e09ed09a3a63bd648c121b0ffa3576dbe0af3'\n"
     ]
    }
   ],
   "source": [
    "dht.start()"
   ]
  },
  {
   "cell_type": "code",
   "execution_count": null,
   "id": "mental-privilege",
   "metadata": {},
   "outputs": [],
   "source": []
  },
  {
   "cell_type": "code",
   "execution_count": 8,
   "id": "fantastic-weapon",
   "metadata": {},
   "outputs": [],
   "source": [
    "listy = dht.get_closest_nodes(id = b'\\xc8\\x1e\\t\\xed\\t\\xa3\\xa6;\\xd6H\\xc1!\\xb0\\xff\\xa3Wm\\xbe\\n\\xf3')"
   ]
  },
  {
   "cell_type": "code",
   "execution_count": 7,
   "id": "atlantic-adjustment",
   "metadata": {},
   "outputs": [],
   "source": [
    "dht.register_message(b'announce_peer')"
   ]
  },
  {
   "cell_type": "code",
   "execution_count": 9,
   "id": "competitive-central",
   "metadata": {},
   "outputs": [
    {
     "ename": "IndexError",
     "evalue": "list index out of range",
     "output_type": "error",
     "traceback": [
      "\u001b[0;31m---------------------------------------------------------------------------\u001b[0m",
      "\u001b[0;31mIndexError\u001b[0m                                Traceback (most recent call last)",
      "\u001b[0;32m<ipython-input-9-2715e8f61412>\u001b[0m in \u001b[0;36m<module>\u001b[0;34m\u001b[0m\n\u001b[0;32m----> 1\u001b[0;31m \u001b[0mdht\u001b[0m\u001b[0;34m.\u001b[0m\u001b[0msendto\u001b[0m\u001b[0;34m(\u001b[0m\u001b[0;34mb'hello'\u001b[0m\u001b[0;34m,\u001b[0m \u001b[0;34m(\u001b[0m\u001b[0mlisty\u001b[0m\u001b[0;34m[\u001b[0m\u001b[0;36m0\u001b[0m\u001b[0;34m]\u001b[0m\u001b[0;34m.\u001b[0m\u001b[0mip\u001b[0m\u001b[0;34m,\u001b[0m \u001b[0mlisty\u001b[0m\u001b[0;34m[\u001b[0m\u001b[0;36m0\u001b[0m\u001b[0;34m]\u001b[0m\u001b[0;34m.\u001b[0m\u001b[0mport\u001b[0m\u001b[0;34m)\u001b[0m\u001b[0;34m)\u001b[0m\u001b[0;34m\u001b[0m\u001b[0;34m\u001b[0m\u001b[0m\n\u001b[0m",
      "\u001b[0;31mIndexError\u001b[0m: list index out of range"
     ]
    },
    {
     "name": "stdout",
     "output_type": "stream",
     "text": [
      "Bootstraping\n",
      "0 nodes, 0 goods, 0 bads | in: 0, out: 3 en 1s\n",
      "Bootstraping\n",
      "0 nodes, 0 goods, 0 bads | in: 0, out: 3 en 1s\n",
      "Bootstraping\n",
      "0 nodes, 0 goods, 0 bads | in: 0, out: 3 en 1s\n",
      "Bootstraping\n",
      "0 nodes, 0 goods, 0 bads | in: 0, out: 3 en 1s\n",
      "Bootstraping\n",
      "0 nodes, 0 goods, 0 bads | in: 0, out: 3 en 1s\n",
      "Bootstraping\n",
      "0 nodes, 0 goods, 0 bads | in: 0, out: 3 en 1s\n",
      "Bootstraping\n",
      "0 nodes, 0 goods, 0 bads | in: 0, out: 3 en 1s\n",
      "Bootstraping\n",
      "0 nodes, 0 goods, 0 bads | in: 0, out: 3 en 1s\n"
     ]
    }
   ],
   "source": [
    "dht.sendto(b'hello', (listy[0].ip, listy[0].port))"
   ]
  },
  {
   "cell_type": "code",
   "execution_count": 21,
   "id": "measured-hamilton",
   "metadata": {},
   "outputs": [
    {
     "data": {
      "text/plain": [
       "('138.199.15.69', 6069)"
      ]
     },
     "execution_count": 21,
     "metadata": {},
     "output_type": "execute_result"
    }
   ],
   "source": [
    "(listy[0].ip, listy[0].port)"
   ]
  },
  {
   "cell_type": "code",
   "execution_count": 24,
   "id": "irish-leather",
   "metadata": {},
   "outputs": [],
   "source": [
    "dht.register_message(b'announce_peers')"
   ]
  },
  {
   "cell_type": "code",
   "execution_count": 10,
   "id": "thorough-cardiff",
   "metadata": {},
   "outputs": [
    {
     "data": {
      "text/plain": [
       "[]"
      ]
     },
     "execution_count": 10,
     "metadata": {},
     "output_type": "execute_result"
    },
    {
     "name": "stdout",
     "output_type": "stream",
     "text": [
      "Bootstraping\n",
      "0 nodes, 0 goods, 0 bads | in: 0, out: 3 en 1s\n",
      "Bootstraping\n",
      "0 nodes, 0 goods, 0 bads | in: 0, out: 3 en 1s\n",
      "Bootstraping\n",
      "0 nodes, 0 goods, 0 bads | in: 0, out: 3 en 1s\n",
      "Bootstraping\n",
      "0 nodes, 0 goods, 0 bads | in: 0, out: 3 en 1s\n",
      "Bootstraping\n",
      "0 nodes, 0 goods, 0 bads | in: 0, out: 3 en 1s\n",
      "Bootstraping\n",
      "0 nodes, 0 goods, 0 bads | in: 0, out: 3 en 1s\n",
      "Bootstraping\n",
      "0 nodes, 0 goods, 0 bads | in: 0, out: 3 en 1s\n",
      "Bootstraping\n",
      "0 nodes, 0 goods, 0 bads | in: 0, out: 3 en 1s\n"
     ]
    }
   ],
   "source": [
    "dht.get_closest_nodes(b'\\xc8\\x1e\\t\\xed\\t\\xa3\\xa6;\\xd6H\\xc1!\\xb0\\xff\\xa3Wm\\xbe\\n\\xf3')"
   ]
  },
  {
   "cell_type": "code",
   "execution_count": 11,
   "id": "coordinated-petersburg",
   "metadata": {},
   "outputs": [
    {
     "data": {
      "text/plain": [
       "65197"
      ]
     },
     "execution_count": 11,
     "metadata": {},
     "output_type": "execute_result"
    },
    {
     "name": "stdout",
     "output_type": "stream",
     "text": [
      "Bootstraping\n",
      "0 nodes, 0 goods, 0 bads | in: 0, out: 3 en 1s\n",
      "Bootstraping\n",
      "0 nodes, 0 goods, 0 bads | in: 0, out: 3 en 1s\n",
      "Bootstraping\n",
      "0 nodes, 0 goods, 0 bads | in: 0, out: 3 en 1s\n"
     ]
    }
   ],
   "source": [
    "dht.bind_port"
   ]
  },
  {
   "cell_type": "code",
   "execution_count": 12,
   "id": "similar-irrigation",
   "metadata": {},
   "outputs": [
    {
     "name": "stdout",
     "output_type": "stream",
     "text": [
      "Bootstraping\n"
     ]
    },
    {
     "data": {
      "text/plain": [
       "(b'd1:ad2:id20:\\xc8\\x1e\\t\\xed\\t\\xa3\\xa6;\\xd6H\\xc1!\\xb0\\xff\\xa3Wm\\xbe\\n\\xf36:target20:\\xc8\\x1e\\t\\xed\\t\\xa3\\xa6;\\xd6H\\xc1!\\xb0\\xff\\xa3Wm\\xbe\\n\\xf3e1:q9:find_node1:t6:\\xec2A\\xf00d1:y1:qe',\n",
       " ('router.utorrent.com', 6881))"
      ]
     },
     "execution_count": 12,
     "metadata": {},
     "output_type": "execute_result"
    },
    {
     "name": "stdout",
     "output_type": "stream",
     "text": [
      "0 nodes, 0 goods, 0 bads | in: 0, out: 3 en 1s\n",
      "Bootstraping\n",
      "0 nodes, 0 goods, 0 bads | in: 0, out: 2 en 1s\n",
      "Bootstraping\n",
      "0 nodes, 0 goods, 0 bads | in: 0, out: 3 en 1s\n",
      "Bootstraping\n",
      "0 nodes, 0 goods, 0 bads | in: 0, out: 3 en 1s\n",
      "Bootstraping\n",
      "0 nodes, 0 goods, 0 bads | in: 0, out: 3 en 1s\n",
      "Bootstraping\n",
      "0 nodes, 0 goods, 0 bads | in: 0, out: 3 en 1s\n",
      "Bootstraping\n",
      "0 nodes, 0 goods, 0 bads | in: 0, out: 3 en 1s\n"
     ]
    }
   ],
   "source": [
    "dht.to_send.get()"
   ]
  },
  {
   "cell_type": "code",
   "execution_count": 14,
   "id": "wrapped-playlist",
   "metadata": {},
   "outputs": [
    {
     "ename": "AttributeError",
     "evalue": "'DHT' object has no attribute 'ht'",
     "output_type": "error",
     "traceback": [
      "\u001b[0;31m---------------------------------------------------------------------------\u001b[0m",
      "\u001b[0;31mAttributeError\u001b[0m                            Traceback (most recent call last)",
      "\u001b[0;32m<ipython-input-14-fe4cf414f009>\u001b[0m in \u001b[0;36m<module>\u001b[0;34m\u001b[0m\n\u001b[0;32m----> 1\u001b[0;31m \u001b[0mdht\u001b[0m\u001b[0;34m.\u001b[0m\u001b[0mht\u001b[0m\u001b[0;34m\u001b[0m\u001b[0;34m\u001b[0m\u001b[0m\n\u001b[0m",
      "\u001b[0;31mAttributeError\u001b[0m: 'DHT' object has no attribute 'ht'"
     ]
    },
    {
     "name": "stdout",
     "output_type": "stream",
     "text": [
      "Bootstraping\n",
      "0 nodes, 0 goods, 0 bads | in: 0, out: 3 en 1s\n",
      "Bootstraping\n",
      "0 nodes, 0 goods, 0 bads | in: 0, out: 3 en 1s\n",
      "Bootstraping\n",
      "0 nodes, 0 goods, 0 bads | in: 0, out: 3 en 1s\n",
      "Bootstraping\n",
      "0 nodes, 0 goods, 0 bads | in: 0, out: 3 en 1s\n",
      "Bootstraping\n",
      "0 nodes, 0 goods, 0 bads | in: 0, out: 3 en 1s\n",
      "Bootstraping\n",
      "0 nodes, 0 goods, 0 bads | in: 0, out: 3 en 1s\n",
      "Bootstraping\n",
      "0 nodes, 0 goods, 0 bads | in: 0, out: 3 en 1s\n",
      "Bootstraping\n",
      "0 nodes, 0 goods, 0 bads | in: 0, out: 3 en 1s\n",
      "Bootstraping\n",
      "0 nodes, 0 goods, 0 bads | in: 0, out: 3 en 1s\n",
      "Bootstraping\n",
      "0 nodes, 0 goods, 0 bads | in: 0, out: 3 en 1s\n",
      "Bootstraping\n",
      "0 nodes, 0 goods, 0 bads | in: 0, out: 3 en 1s\n",
      "Bootstraping\n",
      "0 nodes, 0 goods, 0 bads | in: 0, out: 3 en 1s\n",
      "Bootstraping\n",
      "0 nodes, 0 goods, 0 bads | in: 0, out: 3 en 1s\n"
     ]
    }
   ],
   "source": [
    "dht.ht"
   ]
  },
  {
   "cell_type": "code",
   "execution_count": 15,
   "id": "accomplished-turkish",
   "metadata": {},
   "outputs": [
    {
     "name": "stderr",
     "output_type": "stream",
     "text": [
      "Exception in thread scheduler:io_loop:\n",
      "Traceback (most recent call last):\n",
      "  File \"btdht/utils.pyx\", line 1129, in btdht.utils.Scheduler._io_loop\n",
      "OSError: [Errno 9] Bad file descriptor\n",
      "\n",
      "During handling of the above exception, another exception occurred:\n",
      "\n",
      "Traceback (most recent call last):\n",
      "  File \"/Users/ramkripa/opt/anaconda3/lib/python3.8/threading.py\", line 932, in _bootstrap_inner\n",
      "    self.run()\n",
      "  File \"/Users/ramkripa/opt/anaconda3/lib/python3.8/threading.py\", line 870, in run\n",
      "    self._target(*self._args, **self._kwargs)\n",
      "  File \"btdht/utils.pyx\", line 1137, in btdht.utils.Scheduler._io_loop\n",
      "AttributeError: 'Scheduler' object has no attribute 'debug'\n"
     ]
    }
   ],
   "source": [
    "dht.stop()"
   ]
  },
  {
   "cell_type": "code",
   "execution_count": null,
   "id": "downtown-benjamin",
   "metadata": {},
   "outputs": [],
   "source": []
  }
 ],
 "metadata": {
  "kernelspec": {
   "display_name": "Python 3",
   "language": "python",
   "name": "python3"
  },
  "language_info": {
   "codemirror_mode": {
    "name": "ipython",
    "version": 3
   },
   "file_extension": ".py",
   "mimetype": "text/x-python",
   "name": "python",
   "nbconvert_exporter": "python",
   "pygments_lexer": "ipython3",
   "version": "3.8.8"
  }
 },
 "nbformat": 4,
 "nbformat_minor": 5
}
