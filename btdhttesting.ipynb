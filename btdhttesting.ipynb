{
 "cells": [
  {
   "cell_type": "code",
   "execution_count": 1,
   "id": "stuffed-worthy",
   "metadata": {},
   "outputs": [],
   "source": [
    "import btdht"
   ]
  },
  {
   "cell_type": "code",
   "execution_count": 2,
   "id": "medieval-president",
   "metadata": {},
   "outputs": [],
   "source": [
    "import binascii"
   ]
  },
  {
   "cell_type": "code",
   "execution_count": 3,
   "id": "several-seminar",
   "metadata": {},
   "outputs": [],
   "source": [
    "dht = btdht.DHT()"
   ]
  },
  {
   "cell_type": "code",
   "execution_count": 4,
   "id": "controversial-manchester",
   "metadata": {},
   "outputs": [
    {
     "name": "stdout",
     "output_type": "stream",
     "text": [
      "init socket for b'6971e8567dd11d2b736077f02c88e6e11e4c2f8a'\n"
     ]
    }
   ],
   "source": [
    "dht.start()"
   ]
  },
  {
   "cell_type": "code",
   "execution_count": 14,
   "id": "received-session",
   "metadata": {},
   "outputs": [
    {
     "data": {
      "text/plain": [
       "b'iq\\xe8V}\\xd1\\x1d+s`w\\xf0,\\x88\\xe6\\xe1\\x1eL/\\x8a'"
      ]
     },
     "execution_count": 14,
     "metadata": {},
     "output_type": "execute_result"
    }
   ],
   "source": [
    "dht.myid.value"
   ]
  },
  {
   "cell_type": "code",
   "execution_count": 15,
   "id": "tamil-harvest",
   "metadata": {},
   "outputs": [
    {
     "data": {
      "text/plain": [
       "[Node: 87.98.162.88:6881, Node: 59.4.70.214:59434, Node: 116.87.168.233:6916]"
      ]
     },
     "execution_count": 15,
     "metadata": {},
     "output_type": "execute_result"
    }
   ],
   "source": [
    "dht.get_closest_nodes(id = b'iq\\xe8V}\\xd1\\x1d+s`w\\xf0,\\x88\\xe6\\xe1\\x1eL/\\x8a')"
   ]
  },
  {
   "cell_type": "code",
   "execution_count": null,
   "id": "sacred-charleston",
   "metadata": {},
   "outputs": [],
   "source": []
  },
  {
   "cell_type": "code",
   "execution_count": null,
   "id": "double-transition",
   "metadata": {},
   "outputs": [],
   "source": []
  },
  {
   "cell_type": "code",
   "execution_count": 12,
   "id": "australian-education",
   "metadata": {},
   "outputs": [],
   "source": []
  },
  {
   "cell_type": "code",
   "execution_count": null,
   "id": "posted-cleanup",
   "metadata": {},
   "outputs": [],
   "source": []
  }
 ],
 "metadata": {
  "kernelspec": {
   "display_name": "Python 3",
   "language": "python",
   "name": "python3"
  },
  "language_info": {
   "codemirror_mode": {
    "name": "ipython",
    "version": 3
   },
   "file_extension": ".py",
   "mimetype": "text/x-python",
   "name": "python",
   "nbconvert_exporter": "python",
   "pygments_lexer": "ipython3",
   "version": "3.8.8"
  }
 },
 "nbformat": 4,
 "nbformat_minor": 5
}
