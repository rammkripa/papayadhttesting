{
 "cells": [
  {
   "cell_type": "code",
   "execution_count": 1,
   "id": "hazardous-major",
   "metadata": {},
   "outputs": [],
   "source": [
    "# sister notebook to test the dht"
   ]
  },
  {
   "cell_type": "code",
   "execution_count": 1,
   "id": "hollow-teacher",
   "metadata": {},
   "outputs": [],
   "source": [
    "import btdht"
   ]
  },
  {
   "cell_type": "code",
   "execution_count": 4,
   "id": "minute-lithuania",
   "metadata": {},
   "outputs": [],
   "source": [
    "from btdht.utils import ID"
   ]
  },
  {
   "cell_type": "code",
   "execution_count": null,
   "id": "threaded-narrow",
   "metadata": {},
   "outputs": [],
   "source": []
  },
  {
   "cell_type": "code",
   "execution_count": null,
   "id": "plastic-swimming",
   "metadata": {},
   "outputs": [],
   "source": []
  },
  {
   "cell_type": "code",
   "execution_count": 19,
   "id": "functional-share",
   "metadata": {},
   "outputs": [],
   "source": [
    "a2 = btdht.DHT(id = b'iq\\xe8V}\\xd1\\x1d+s`w\\xf0,\\x88\\xe6\\xe1\\x1eL/\\x8a')"
   ]
  },
  {
   "cell_type": "code",
   "execution_count": 20,
   "id": "authorized-aquatic",
   "metadata": {},
   "outputs": [
    {
     "name": "stdout",
     "output_type": "stream",
     "text": [
      "init socket for b'6971e8567dd11d2b736077f02c88e6e11e4c2f8a'\n"
     ]
    }
   ],
   "source": [
    "a2.start()"
   ]
  },
  {
   "cell_type": "code",
   "execution_count": 21,
   "id": "worthy-charleston",
   "metadata": {},
   "outputs": [
    {
     "data": {
      "text/plain": [
       "[]"
      ]
     },
     "execution_count": 21,
     "metadata": {},
     "output_type": "execute_result"
    },
    {
     "name": "stdout",
     "output_type": "stream",
     "text": [
      "Bootstraping\n",
      "3 nodes, 2 goods, 0 bads | in: 0, out: 1 en 15s\n"
     ]
    },
    {
     "name": "stderr",
     "output_type": "stream",
     "text": [
      "Exception in thread scheduler:io_loop:\n",
      "Traceback (most recent call last):\n",
      "  File \"btdht/utils.pyx\", line 1129, in btdht.utils.Scheduler._io_loop\n",
      "OSError: [Errno 9] Bad file descriptor\n",
      "\n",
      "During handling of the above exception, another exception occurred:\n",
      "\n",
      "Traceback (most recent call last):\n",
      "  File \"/Users/ramkripa/opt/anaconda3/lib/python3.8/threading.py\", line 932, in _bootstrap_inner\n",
      "    self.run()\n",
      "  File \"/Users/ramkripa/opt/anaconda3/lib/python3.8/threading.py\", line 870, in run\n",
      "    self._target(*self._args, **self._kwargs)\n",
      "  File \"btdht/utils.pyx\", line 1137, in btdht.utils.Scheduler._io_loop\n",
      "AttributeError: 'Scheduler' object has no attribute 'debug'\n"
     ]
    },
    {
     "name": "stdout",
     "output_type": "stream",
     "text": [
      "No msg since more than 2 minutes on udp port 52801\n",
      "3 nodes, 2 goods, 0 bads | in: 0, out: 1 en 15s\n"
     ]
    }
   ],
   "source": [
    "a2.get_closest_nodes(id = b'iq\\xe8V}\\xd1\\x1d+s`w\\xf0,\\x88\\xe6\\xe1\\x1eL/\\x8a')"
   ]
  },
  {
   "cell_type": "code",
   "execution_count": null,
   "id": "resistant-homework",
   "metadata": {},
   "outputs": [],
   "source": []
  }
 ],
 "metadata": {
  "kernelspec": {
   "display_name": "Python 3",
   "language": "python",
   "name": "python3"
  },
  "language_info": {
   "codemirror_mode": {
    "name": "ipython",
    "version": 3
   },
   "file_extension": ".py",
   "mimetype": "text/x-python",
   "name": "python",
   "nbconvert_exporter": "python",
   "pygments_lexer": "ipython3",
   "version": "3.8.8"
  }
 },
 "nbformat": 4,
 "nbformat_minor": 5
}
