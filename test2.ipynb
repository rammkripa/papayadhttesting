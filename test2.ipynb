{
 "cells": [
  {
   "cell_type": "code",
   "execution_count": 1,
   "id": "armed-variation",
   "metadata": {},
   "outputs": [],
   "source": [
    "# sister notebook to test the dht"
   ]
  },
  {
   "cell_type": "code",
   "execution_count": 2,
   "id": "essential-desire",
   "metadata": {},
   "outputs": [],
   "source": [
    "import btdht"
   ]
  },
  {
   "cell_type": "code",
   "execution_count": 3,
   "id": "executive-cyprus",
   "metadata": {},
   "outputs": [],
   "source": [
    "from btdht.utils import ID"
   ]
  },
  {
   "cell_type": "code",
   "execution_count": null,
   "id": "requested-pottery",
   "metadata": {},
   "outputs": [],
   "source": []
  },
  {
   "cell_type": "code",
   "execution_count": null,
   "id": "golden-advocacy",
   "metadata": {},
   "outputs": [],
   "source": []
  },
  {
   "cell_type": "code",
   "execution_count": 4,
   "id": "first-parade",
   "metadata": {},
   "outputs": [],
   "source": [
    "a2 = btdht.DHT(id = b'\\xc8\\x1e\\t\\xed\\t\\xa3\\xa6;\\xd6H\\xc1!\\xb0\\xff\\xa3Wm\\xbe\\n\\xf3')"
   ]
  },
  {
   "cell_type": "code",
   "execution_count": 5,
   "id": "academic-prize",
   "metadata": {},
   "outputs": [
    {
     "name": "stdout",
     "output_type": "stream",
     "text": [
      "init socket for b'c81e09ed09a3a63bd648c121b0ffa3576dbe0af3'\n"
     ]
    }
   ],
   "source": [
    "a2.start()"
   ]
  },
  {
   "cell_type": "code",
   "execution_count": 6,
   "id": "irish-force",
   "metadata": {},
   "outputs": [],
   "source": [
    "listy = a2.get_closest_nodes(id = b'\\xc8\\x1e\\t\\xed\\t\\xa3\\xa6;\\xd6H\\xc1!\\xb0\\xff\\xa3Wm\\xbe\\n\\xf3')"
   ]
  },
  {
   "cell_type": "code",
   "execution_count": null,
   "id": "golden-strand",
   "metadata": {},
   "outputs": [],
   "source": [
    "a2.announce_"
   ]
  },
  {
   "cell_type": "code",
   "execution_count": 7,
   "id": "optimum-association",
   "metadata": {},
   "outputs": [
    {
     "data": {
      "text/plain": [
       "[]"
      ]
     },
     "execution_count": 7,
     "metadata": {},
     "output_type": "execute_result"
    },
    {
     "name": "stdout",
     "output_type": "stream",
     "text": [
      "Bootstraping\n",
      "0 nodes, 0 goods, 0 bads | in: 0, out: 3 en 1s\n",
      "Bootstraping\n",
      "0 nodes, 0 goods, 0 bads | in: 0, out: 3 en 1s\n",
      "Bootstraping\n",
      "0 nodes, 0 goods, 0 bads | in: 0, out: 3 en 1s\n",
      "Bootstraping\n",
      "0 nodes, 0 goods, 0 bads | in: 0, out: 3 en 1s\n",
      "Bootstraping\n",
      "0 nodes, 0 goods, 0 bads | in: 0, out: 3 en 1s\n",
      "Bootstraping\n",
      "0 nodes, 0 goods, 0 bads | in: 0, out: 3 en 1s\n",
      "Bootstraping\n",
      "0 nodes, 0 goods, 0 bads | in: 0, out: 3 en 1s\n",
      "Bootstraping\n",
      "0 nodes, 0 goods, 0 bads | in: 0, out: 3 en 1s\n",
      "Bootstraping\n",
      "0 nodes, 0 goods, 0 bads | in: 0, out: 3 en 1s\n",
      "Bootstraping\n",
      "0 nodes, 0 goods, 0 bads | in: 0, out: 3 en 1s\n",
      "Bootstraping\n",
      "0 nodes, 0 goods, 0 bads | in: 0, out: 3 en 1s\n",
      "Bootstraping\n",
      "0 nodes, 0 goods, 0 bads | in: 0, out: 3 en 1s\n",
      "Bootstraping\n",
      "0 nodes, 0 goods, 0 bads | in: 0, out: 3 en 1s\n",
      "Bootstraping\n",
      "0 nodes, 0 goods, 0 bads | in: 0, out: 3 en 1s\n",
      "Bootstraping\n",
      "0 nodes, 0 goods, 0 bads | in: 0, out: 3 en 1s\n",
      "Bootstraping\n",
      "0 nodes, 0 goods, 0 bads | in: 0, out: 3 en 1s\n",
      "Bootstraping\n",
      "0 nodes, 0 goods, 0 bads | in: 0, out: 3 en 1s\n",
      "Bootstraping\n",
      "0 nodes, 0 goods, 0 bads | in: 0, out: 3 en 1s\n",
      "Bootstraping\n",
      "0 nodes, 0 goods, 0 bads | in: 0, out: 3 en 1s\n",
      "Bootstraping\n",
      "0 nodes, 0 goods, 0 bads | in: 0, out: 3 en 1s\n",
      "Bootstraping\n",
      "0 nodes, 0 goods, 0 bads | in: 0, out: 3 en 1s\n",
      "Bootstraping\n",
      "0 nodes, 0 goods, 0 bads | in: 0, out: 3 en 1s\n",
      "Bootstraping\n",
      "0 nodes, 0 goods, 0 bads | in: 0, out: 3 en 1s\n",
      "Bootstraping\n",
      "0 nodes, 0 goods, 0 bads | in: 0, out: 3 en 1s\n",
      "Bootstraping\n",
      "0 nodes, 0 goods, 0 bads | in: 0, out: 3 en 1s\n",
      "Bootstraping\n",
      "0 nodes, 0 goods, 0 bads | in: 0, out: 3 en 1s\n",
      "Bootstraping\n",
      "0 nodes, 0 goods, 0 bads | in: 0, out: 3 en 1s\n",
      "Bootstraping\n",
      "0 nodes, 0 goods, 0 bads | in: 0, out: 3 en 1s\n",
      "Bootstraping\n",
      "0 nodes, 0 goods, 0 bads | in: 0, out: 3 en 1s\n",
      "Bootstraping\n",
      "0 nodes, 0 goods, 0 bads | in: 0, out: 3 en 1s\n",
      "Bootstraping\n",
      "0 nodes, 0 goods, 0 bads | in: 0, out: 3 en 1s\n",
      "Bootstraping\n",
      "0 nodes, 0 goods, 0 bads | in: 0, out: 3 en 1s\n",
      "Bootstraping\n",
      "0 nodes, 0 goods, 0 bads | in: 0, out: 3 en 1s\n",
      "Bootstraping\n",
      "0 nodes, 0 goods, 0 bads | in: 0, out: 3 en 1s\n",
      "Bootstraping\n",
      "0 nodes, 0 goods, 0 bads | in: 0, out: 3 en 1s\n",
      "Bootstraping\n",
      "0 nodes, 0 goods, 0 bads | in: 0, out: 3 en 1s\n",
      "Bootstraping\n",
      "0 nodes, 0 goods, 0 bads | in: 0, out: 3 en 1s\n",
      "Bootstraping\n",
      "0 nodes, 0 goods, 0 bads | in: 0, out: 3 en 1s\n",
      "Bootstraping\n",
      "0 nodes, 0 goods, 0 bads | in: 0, out: 3 en 1s\n",
      "Bootstraping\n",
      "0 nodes, 0 goods, 0 bads | in: 0, out: 3 en 1s\n",
      "Bootstraping\n",
      "0 nodes, 0 goods, 0 bads | in: 0, out: 3 en 1s\n",
      "Bootstraping\n",
      "0 nodes, 0 goods, 0 bads | in: 0, out: 3 en 1s\n",
      "Bootstraping\n",
      "0 nodes, 0 goods, 0 bads | in: 0, out: 3 en 1s\n",
      "Bootstraping\n",
      "0 nodes, 0 goods, 0 bads | in: 0, out: 3 en 1s\n",
      "Bootstraping\n",
      "0 nodes, 0 goods, 0 bads | in: 0, out: 3 en 1s\n",
      "Bootstraping\n",
      "0 nodes, 0 goods, 0 bads | in: 0, out: 3 en 1s\n",
      "Bootstraping\n",
      "0 nodes, 0 goods, 0 bads | in: 0, out: 3 en 1s\n",
      "Bootstraping\n",
      "0 nodes, 0 goods, 0 bads | in: 0, out: 3 en 1s\n",
      "Bootstraping\n",
      "0 nodes, 0 goods, 0 bads | in: 0, out: 3 en 1s\n",
      "Bootstraping\n",
      "0 nodes, 0 goods, 0 bads | in: 0, out: 3 en 1s\n",
      "Bootstraping\n",
      "0 nodes, 0 goods, 0 bads | in: 0, out: 3 en 1s\n",
      "Bootstraping\n",
      "0 nodes, 0 goods, 0 bads | in: 0, out: 3 en 1s\n"
     ]
    }
   ],
   "source": [
    "listy"
   ]
  },
  {
   "cell_type": "code",
   "execution_count": 20,
   "id": "roman-entity",
   "metadata": {},
   "outputs": [],
   "source": [
    "a2.sendto(b'hello', (listy[0].ip, listy[0].port))"
   ]
  },
  {
   "cell_type": "code",
   "execution_count": null,
   "id": "dense-selection",
   "metadata": {},
   "outputs": [],
   "source": []
  }
 ],
 "metadata": {
  "kernelspec": {
   "display_name": "Python 3",
   "language": "python",
   "name": "python3"
  },
  "language_info": {
   "codemirror_mode": {
    "name": "ipython",
    "version": 3
   },
   "file_extension": ".py",
   "mimetype": "text/x-python",
   "name": "python",
   "nbconvert_exporter": "python",
   "pygments_lexer": "ipython3",
   "version": "3.8.8"
  }
 },
 "nbformat": 4,
 "nbformat_minor": 5
}
