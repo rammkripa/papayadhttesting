{
 "cells": [
  {
   "cell_type": "code",
   "execution_count": 8,
   "id": "funded-presentation",
   "metadata": {},
   "outputs": [],
   "source": [
    "# sister notebook to test the dht"
   ]
  },
  {
   "cell_type": "code",
   "execution_count": 2,
   "id": "stupid-astrology",
   "metadata": {},
   "outputs": [],
   "source": [
    "import btdht"
   ]
  },
  {
   "cell_type": "code",
   "execution_count": 3,
   "id": "rural-dietary",
   "metadata": {},
   "outputs": [],
   "source": [
    "from btdht.utils import ID"
   ]
  },
  {
   "cell_type": "code",
   "execution_count": null,
   "id": "incorporated-spiritual",
   "metadata": {},
   "outputs": [],
   "source": []
  },
  {
   "cell_type": "code",
   "execution_count": null,
   "id": "super-district",
   "metadata": {},
   "outputs": [],
   "source": []
  },
  {
   "cell_type": "code",
   "execution_count": 4,
   "id": "acting-party",
   "metadata": {},
   "outputs": [],
   "source": [
    "a2 = btdht.DHT(id = b'\\xc8\\x1e\\t\\xed\\t\\xa3\\xa6;\\xd6H\\xc1!\\xb0\\xff\\xa3Wm\\xbe\\n\\xf3')"
   ]
  },
  {
   "cell_type": "code",
   "execution_count": 5,
   "id": "seventh-attendance",
   "metadata": {},
   "outputs": [
    {
     "name": "stdout",
     "output_type": "stream",
     "text": [
      "init socket for b'c81e09ed09a3a63bd648c121b0ffa3576dbe0af3'\n"
     ]
    }
   ],
   "source": [
    "a2.start()"
   ]
  },
  {
   "cell_type": "code",
   "execution_count": 13,
   "id": "thrown-taste",
   "metadata": {},
   "outputs": [],
   "source": [
    "listy = a2.get_closest_nodes(id = b'\\xc8\\x1e\\t\\xed\\t\\xa3\\xa6;\\xd6H\\xc1!\\xb0\\xff\\xa3Wm\\xbe\\n\\xf3')"
   ]
  },
  {
   "cell_type": "code",
   "execution_count": 15,
   "id": "rolled-brick",
   "metadata": {},
   "outputs": [
    {
     "data": {
      "text/plain": [
       "1651199821.6085382"
      ]
     },
     "execution_count": 15,
     "metadata": {},
     "output_type": "execute_result"
    }
   ],
   "source": [
    "a2.last_msg"
   ]
  },
  {
   "cell_type": "code",
   "execution_count": 20,
   "id": "classified-species",
   "metadata": {},
   "outputs": [],
   "source": [
    "a2.sendto(b'hello', (listy[0].ip, listy[0].port))"
   ]
  },
  {
   "cell_type": "code",
   "execution_count": null,
   "id": "incredible-parish",
   "metadata": {},
   "outputs": [],
   "source": []
  }
 ],
 "metadata": {
  "kernelspec": {
   "display_name": "Python 3",
   "language": "python",
   "name": "python3"
  },
  "language_info": {
   "codemirror_mode": {
    "name": "ipython",
    "version": 3
   },
   "file_extension": ".py",
   "mimetype": "text/x-python",
   "name": "python",
   "nbconvert_exporter": "python",
   "pygments_lexer": "ipython3",
   "version": "3.8.8"
  }
 },
 "nbformat": 4,
 "nbformat_minor": 5
}
